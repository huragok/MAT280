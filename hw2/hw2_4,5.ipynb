{
 "cells": [
  {
   "cell_type": "code",
   "execution_count": null,
   "metadata": {
    "collapsed": true
   },
   "outputs": [],
   "source": [
    "import numpy as np\n",
    "import scipy as sp\n",
    "import cvxpy as cvx\n",
    "\n",
    "N = 10\n",
    "k = 100\n",
    "d = 400\n"
   ]
  },
  {
   "cell_type": "code",
   "execution_count": null,
   "metadata": {
    "collapsed": false
   },
   "outputs": [],
   "source": [
    "A = np.random.randn(k, d, N)\n",
    "\n",
    "for s in range(1, d + 1):\n",
    "    X = np.random.randn(s, N)\n",
    "    for n in range(N):\n",
    "        S = np.random.choice(d, s, replace = True)\n",
    "        x = np.zeros(d, dtype=\"float64\")\n",
    "        x[S] = X[:, n]\n",
    "        y = np.dot(A[:, :, n], x)\n",
    "        \n",
    "        z = cvx.Variable(d)"
   ]
  },
  {
   "cell_type": "code",
   "execution_count": null,
   "metadata": {
    "collapsed": true
   },
   "outputs": [],
   "source": [
    "s = 5\n",
    "S = np.random.choice(d, s, replace = True)\n",
    "X = np.random.randn(s, N)\n",
    "A = np.random.randn(k, d, N)"
   ]
  },
  {
   "cell_type": "code",
   "execution_count": null,
   "metadata": {
    "collapsed": false
   },
   "outputs": [],
   "source": [
    "n = 0\n",
    "x = np.zeros(d, dtype=\"float64\")\n",
    "x[S] = X[:, n]\n"
   ]
  },
  {
   "cell_type": "code",
   "execution_count": null,
   "metadata": {
    "collapsed": false
   },
   "outputs": [],
   "source": [
    "y = np.dot(A[:, :, n], x)\n",
    "z = cvx.Variable(d)\n",
    "constraints = [A[:, :, n] * z == y,]\n",
    "objective = cvx.Minimize(cvx.norm(z, 1))\n",
    "prob = cvx.Problem(objective, constraints)\n",
    "prob.solve()"
   ]
  },
  {
   "cell_type": "code",
   "execution_count": null,
   "metadata": {
    "collapsed": false
   },
   "outputs": [],
   "source": [
    "np.where(abs(z.value) > 1e-10), S\n"
   ]
  }
 ],
 "metadata": {
  "kernelspec": {
   "display_name": "Python 3",
   "language": "python",
   "name": "python3"
  },
  "language_info": {
   "codemirror_mode": {
    "name": "ipython",
    "version": 3
   },
   "file_extension": ".py",
   "mimetype": "text/x-python",
   "name": "python",
   "nbconvert_exporter": "python",
   "pygments_lexer": "ipython3",
   "version": "3.4.4"
  }
 },
 "nbformat": 4,
 "nbformat_minor": 0
}
